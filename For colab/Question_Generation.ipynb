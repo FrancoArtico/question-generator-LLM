{
  "nbformat": 4,
  "nbformat_minor": 0,
  "metadata": {
    "colab": {
      "provenance": [],
      "gpuType": "T4",
      "toc_visible": true
    },
    "kernelspec": {
      "name": "python3",
      "display_name": "Python 3"
    },
    "language_info": {
      "name": "python"
    },
    "accelerator": "GPU"
  },
  "cells": [
    {
      "cell_type": "markdown",
      "source": [
        "## Instalaciones"
      ],
      "metadata": {
        "id": "wc5lpV2Fijvm"
      }
    },
    {
      "cell_type": "code",
      "execution_count": 1,
      "metadata": {
        "id": "6x5rx1l8hXJ4"
      },
      "outputs": [],
      "source": [
        "%%capture\n",
        "!pip install --no-deps bitsandbytes accelerate xformers==0.0.29 peft trl triton\n",
        "!pip install --no-deps cut_cross_entropy unsloth_zoo\n",
        "!pip install sentencepiece protobuf datasets huggingface_hub hf_transfer\n",
        "!pip install --no-deps unsloth\n",
        "!pip install -U bitsandbytes\n",
        "!pip install Wikipedia-API"
      ]
    },
    {
      "cell_type": "markdown",
      "source": [
        "# Generación de preguntas con `Llama-3.1-8B-Instruct`"
      ],
      "metadata": {
        "id": "ig--xjfLhr8V"
      }
    },
    {
      "cell_type": "code",
      "execution_count": 2,
      "metadata": {
        "colab": {
          "base_uri": "https://localhost:8080/"
        },
        "id": "QmUBVEnvCDJv",
        "outputId": "6c0b08fe-b5e7-42d6-9dff-856860a6557f"
      },
      "outputs": [
        {
          "output_type": "stream",
          "name": "stdout",
          "text": [
            "🦥 Unsloth: Will patch your computer to enable 2x faster free finetuning.\n",
            "🦥 Unsloth Zoo will now patch everything to make training faster!\n",
            "==((====))==  Unsloth 2025.1.8: Fast Llama patching. Transformers: 4.47.1.\n",
            "   \\\\   /|    GPU: Tesla T4. Max memory: 14.741 GB. Platform: Linux.\n",
            "O^O/ \\_/ \\    Torch: 2.5.1+cu124. CUDA: 7.5. CUDA Toolkit: 12.4. Triton: 3.1.0\n",
            "\\        /    Bfloat16 = FALSE. FA [Xformers = 0.0.29. FA2 = False]\n",
            " \"-____-\"     Free Apache license: http://github.com/unslothai/unsloth\n",
            "Unsloth: Fast downloading is enabled - ignore downloading bars which are red colored!\n"
          ]
        },
        {
          "output_type": "execute_result",
          "data": {
            "text/plain": [
              "LlamaForCausalLM(\n",
              "  (model): LlamaModel(\n",
              "    (embed_tokens): Embedding(128256, 4096, padding_idx=128004)\n",
              "    (layers): ModuleList(\n",
              "      (0-31): 32 x LlamaDecoderLayer(\n",
              "        (self_attn): LlamaAttention(\n",
              "          (q_proj): Linear4bit(in_features=4096, out_features=4096, bias=False)\n",
              "          (k_proj): Linear4bit(in_features=4096, out_features=1024, bias=False)\n",
              "          (v_proj): Linear4bit(in_features=4096, out_features=1024, bias=False)\n",
              "          (o_proj): Linear4bit(in_features=4096, out_features=4096, bias=False)\n",
              "          (rotary_emb): LlamaRotaryEmbedding()\n",
              "        )\n",
              "        (mlp): LlamaMLP(\n",
              "          (gate_proj): Linear4bit(in_features=4096, out_features=14336, bias=False)\n",
              "          (up_proj): Linear4bit(in_features=4096, out_features=14336, bias=False)\n",
              "          (down_proj): Linear4bit(in_features=14336, out_features=4096, bias=False)\n",
              "          (act_fn): SiLU()\n",
              "        )\n",
              "        (input_layernorm): LlamaRMSNorm((4096,), eps=1e-05)\n",
              "        (post_attention_layernorm): LlamaRMSNorm((4096,), eps=1e-05)\n",
              "      )\n",
              "    )\n",
              "    (norm): LlamaRMSNorm((4096,), eps=1e-05)\n",
              "    (rotary_emb): LlamaRotaryEmbedding()\n",
              "  )\n",
              "  (lm_head): Linear(in_features=4096, out_features=128256, bias=False)\n",
              ")"
            ]
          },
          "metadata": {},
          "execution_count": 2
        }
      ],
      "source": [
        "from unsloth import FastLanguageModel\n",
        "from transformers import TextStreamer\n",
        "from unsloth.chat_templates import get_chat_template\n",
        "\n",
        "\n",
        "model, tokenizer = FastLanguageModel.from_pretrained(\n",
        "    model_name = \"unsloth/Meta-Llama-3.1-8B-Instruct\",\n",
        "    max_seq_length = 8096,\n",
        "    load_in_4bit = True\n",
        ")\n",
        "\n",
        "tokenizer = get_chat_template(\n",
        "    tokenizer,\n",
        "    chat_template = \"llama-3.1\",\n",
        "    mapping = {\"role\": \"from\", \"content\": \"value\", \"user\": \"human\", \"assistant\": \"gpt\"}\n",
        ")\n",
        "\n",
        "FastLanguageModel.for_inference(model) # Enable native 2x faster inference"
      ]
    },
    {
      "cell_type": "code",
      "source": [
        "import wikipediaapi\n",
        "\n",
        "# Initializate Wikipedia object\n",
        "wikipedia = wikipediaapi.Wikipedia(user_agent='QuestionGeneration (francoartico0@gmail.com)', language='es')\n",
        "\n",
        "def clean_wikipedia_article(title, sections_to_remove):\n",
        "    \"\"\"\n",
        "    Fetches a Wikipedia article and removes specified sections.\n",
        "    \"\"\"\n",
        "    page = wikipedia.page(title)\n",
        "\n",
        "    if page.exists():\n",
        "      for section in sections_to_remove:\n",
        "          section_to_remove = page.section_by_title(section)\n",
        "          if section_to_remove:\n",
        "            page.sections.remove(section_to_remove)\n",
        "      return page.text\n",
        "    return None\n"
      ],
      "metadata": {
        "id": "TGLBzx7UPIsB"
      },
      "execution_count": 3,
      "outputs": []
    },
    {
      "cell_type": "code",
      "source": [
        "sections_to_remove =[\"Enlaces externos\", \"Bibliografía\", \"Referencias\", \"Notas\", \"Véase también\", \"Notas y referencias\", \"Otras lecturas\"]\n",
        "\n",
        "article = clean_wikipedia_article(title=\"Bill Gates\", sections_to_remove=sections_to_remove)\n",
        "print(article)"
      ],
      "metadata": {
        "colab": {
          "base_uri": "https://localhost:8080/"
        },
        "id": "98kLspMzr3u_",
        "outputId": "ecd3f691-16d8-42db-8b35-cb5797c506a7"
      },
      "execution_count": 4,
      "outputs": [
        {
          "output_type": "stream",
          "name": "stdout",
          "text": [
            "William Henry Gates III (Seattle, 28 de octubre de 1955), conocido como Bill Gates, es un magnate empresarial, desarrollador de software, inversor, autor y filántropo estadounidense. Es cofundador de Microsoft, junto con su difunto amigo de la infancia Paul Allen. Durante su carrera en Microsoft, Gates ocupó los cargos de presidente, director ejecutivo (CEO), presidente y arquitecto jefe de software, además de ser el mayor accionista individual hasta mayo de 2014. Fue uno de los principales empresarios de la revolución de las microcomputadoras de las décadas de 1970 y 1980.\n",
            "Su fortuna se calcula en 129 000 millones de dólares (2023) según la revista Forbes, hecho que lo colocó como el cuarto hombre más rico del mundo.[3]​ Antes del estallido de la burbuja de las punto com, su patrimonio neto ascendió a 114 100 millones de dólares, lo que lo convirtió en la décima persona más rica en toda la historia de la humanidad.[4]​\n",
            "Es uno de los empresarios más conocidos que surgieron durante los inicios de los ordenadores personales. Ha sido criticado por sus tácticas de negocios, que han sido consideradas anticompetitivas, una opinión que en algunos casos ha sido mantenida por numerosas sentencias judiciales.[5]​\n",
            "Estuvo casado con Melinda Gates,[1]​ con quien comparte la presidencia de la Fundación Bill y Melinda Gates, dedicada a reequilibrar oportunidades en salud y educación a nivel local, aunque también ha participado en otros países. Por ejemplo, en Nigeria con el programa para erradicar la polio,[6]​ razón por la cual han sido galardonados con el Premio Príncipe de Asturias de Cooperación Internacional 2006.[7]​[8]​[9]​\n",
            "\n",
            "Biografía\n",
            "Bill Gates nació el 28 de octubre de 1955.[10]​ Es hijo de William H. Gates Sr., un destacado abogado, y de Mary Gates, profesora y fue rectora[11]​de la Universidad de Washington, y directora del First Interstate Bank. Con ellos y su hermana, dos años mayor, vivió en la ciudad de Seattle, en el estado de Washington. A nivel familiar, lo apodan, \"Trey\": William the Third.[11]​\n",
            "Hasta sexto grado fue alumno regular de un colegio público. Cursó estudios en la escuela privada de élite de Lakeside, en Seattle. Esta escuela tenía ya una computadora en el año 1968, lo que le permitió a Gates tomar contacto con la máquina y aficionarse a la informática. También en Lakeside conoció a Paul Allen, con quien más tarde fundaría Microsoft.\n",
            "El 4 de abril de 1975, siendo aún estudiante en la Universidad de Harvard crea la empresa de software Microsoft. En 1976 abandonó la universidad y se trasladó a Albuquerque, sede de MITS, para pactar con esa empresa la cesión del 50 % del lenguaje para computadoras Basic. Al año siguiente, se enteró del éxito de la empresa Apple y de que necesitaban un intérprete de Basic.\n",
            "En 1980, se reunió con representantes de IBM en Seattle. Ellos querían contar con el sistema operativo CP/M. Él les comento de la existencia de una versión adaptada llamada QDOS u 86DOS, comprometiéndose a conseguir una licencia no exclusiva a fin de adaptarla. Con ello, consiguió venderles la idea del sistema operativo MS-DOS, sin contar con esta, comprando la 86DOS a muy bajo precio al joven programador Tim Paterson. IBM necesitaba ese sistema operativo para competir con Apple, razón por la cual la negociación fue flexible. Microsoft quiso los derechos de licencia, mantenimiento, e incluso la facultad de vender el DOS a otras compañías. IBM aceptó, considerando que lo que produciría dividendos sería el hardware y no el software. Unos días después, Microsoft compró los derechos de autor del QDOS a Tim Paterson, que trabajaba para la Seattle Computer Products, por 50 000 dólares, que vendió a IBM como MS-DOS (Microsoft DOS). Lo que llama poderosamente la atención fue que IBM no comprara el MS-DOS sino que decidiera pagar a Microsoft un canon por cada copia que se vendiera junto con un IBM-PC.\n",
            "Consciente de la importancia del entorno gráfico que había mostrado Apple (originalmente la interfaz gráfica y el «ratón» fueron desarrollados por Xerox PARC) en su ordenador Lisa, se propuso conseguir también el entorno gráfico y el «ratón» para operarlo. Mientras, Steve Jobs, fundador de Apple, iniciaba el desarrollo del Macintosh, Bill Gates visitó Apple. Ofrecía mejorar sus hojas de cálculo y otros programas. Amenazaba con vender su material informático a IBM, con lo que obtuvo una alianza Apple-Microsoft.[cita requerida] Microsoft obtuvo legalmente la tecnología del entorno gráfico y del ratón, y sacó al mercado Microsoft Windows, como directo competidor de Macintosh.\n",
            "Desde comienzos de siglo, el sistema operativo Microsoft Windows (en todas sus versiones) se utiliza en la mayor parte de ordenadores personales del planeta.[12]​\n",
            "\n",
            "Filantropía\n",
            "En 2009 Gates y Warren Buffett fundaron The Giving Pledge, por la cual ellos y otros multimillonarios se comprometen a donar al menos la mitad de su riqueza a la filantropía.[13]​\n",
            "\n",
            "Fundación Bill y Melinda Gates\n",
            "El 16 de junio de 2006 hizo pública su intención de abandonar sus labores diarias al frente de Microsoft hacia el 2008 para dedicarse por completo a su fundación.[14]​[15]​ La transición de responsabilidades fue progresiva para evitar afectar el desarrollo diario de la empresa, continuando como presidente Honorario de la misma. El 27 de junio de 2008 abandonó sus labores al frente de Microsoft cediendo el control de la empresa a Steve Ballmer. Bill Gates dedica un 70 % de su tiempo a la Fundación Bill y Melinda Gates y el otro 30 % a la empresa.[16]​\n",
            "En julio de 2022 Gates anuncia la donación de 20 000 millones de dólares más en ese mismo mes y la posterior donación de todo su patrimonio a la Fundación a excepción de lo que gaste en sí mismo y en su familia[17]​\n",
            "\n",
            "Donaciones personales\n",
            "En 1999, Gates donó 20 millones de dólares al Massachusetts Institute of Technology (MIT) para la construcción de un laboratorio de computación llamado «William H. Gates Building», diseñado por el arquitecto Frank Gehry. Aunque Microsoft había dado anteriormente apoyo financiero a la institución, esta fue la primera donación personal recibida de Gates.[18]​\n",
            "\n",
            "Eventos deportivos de caridad\n",
            "El 29 de abril de 2017, Bill Gates se asoció con la leyenda del tenis suizo Roger Federer para participar en el Match for Africa 4, un partido de tenis no competitivo que se disputará en el Key Arena de Seattle con todas las entradas agotadas. El evento se realizó en apoyo a los esfuerzos de caridad de la Fundación Roger Federer en África. Federer y Gates jugaron contra John Isner, el mejor jugador estadounidense durante gran parte de esta década, y Mike McCready, el guitarrista principal de Pearl Jam. Gates y Federer ganaron el partido por 6-4. Al año siguiente, Gates y Federer volvieron a jugar en el Match for Africa 5 el 5 de marzo de 2018 en el SAP Center de San José (California). Sus oponentes fueron Jack Sock, uno de los mejores jugadores estadounidenses y ganador del Grand Slam en dobles, y Savannah Guthrie, copresentadora del programa Today de la NBC. Gates y Federer registraron su segunda victoria en el partido juntos por 6-3 y el evento recaudó más de 2.5 millones de dólares.[19]​\n",
            "\n",
            "Vida personal\n",
            "En 1986 Gates fue nombrado uno de los «50 solteros más codiciados» por Good Housekeeping. Se casó con Melinda French el 1 de enero de 1994 y tuvieron tres hijos: Jennifer Katharine (1996), Rory John (1999) y Phoebe Adele (2002). La familia residía en su casa en la ladera de una colina con vistas al lago Washington, en Medina. \n",
            "En marzo de 2014, en una entrevista de la revista Rolling Stone, Gates señaló que, en cuanto a su fe, «los sistemas morales de la religión, creo, son super importantes. Hemos criado a nuestros hijos de una manera religiosa». En la misma entrevista, Gates dijo: «Creo que tiene sentido creer en Dios, pero exactamente qué decisión en tu vida haces de manera diferente a causa de ello, no lo sé».[20]​ En otra entrevista a principios de 2014, Gates afirmó que si el cielo existiera él estaría «gratamente sorprendido».[21]​ Según otras fuentes, Gates (que nació en el seno de una iglesia protestante), es ahora fuertemente agnóstico.[22]​ \n",
            "El 3 de mayo de 2021 anunció el fin de su matrimonio con Melinda French, tras 27 años, mediante un mensaje publicado en su cuenta personal de Twitter.[23]​ Si bien ponen fin a su relación personal, continuarán trabajando juntos en la Fundación Bill y Melinda Gates.[23]​[24]​ En noviembre de 2022 se hizo público que se convertiría en abuelo por primera vez, debido a que su hija mayor Jennifer se encontraba embarazada. Su primera nieta nació en marzo de 2023.[25]​\n",
            "\n",
            "Desde 2008, año en que dejó de dirigir Microsoft, ha participado en algunos proyectos para poder difundir este estilo de vida. En este sentido, junto a Peter Thiel (cofundador de la empresa PayPal), ha respaldado la creación de huevos artificiales a base de plantas fáciles de cultivar.[26]​ También aseguró, en una ocasión previa, que «el futuro de la carne es vegano», lo cual va en sintonía con una propuesta que había hecho para crear semillas transgénicas que tuviesen sabor a carne.[27]​[28]​[29]​\n",
            "Desde 2007 Bill Gates ocupaba el segundo lugar en la lista anual de las mayores fortunas personales realizada por la revista Forbes, detrás del empresario mexicano Carlos Slim, pero debido a fluctuaciones en el patrimonio de estos dos magnates, sus fortunas quedaron en 72 700 y 72 100 millones de dólares respectivamente, según el Bloomberg Billionaires Index de mayo de 2013. En 1994, adquirió un manuscrito de Leonardo da Vinci (el Códice Hammer, también llamado Códice Leicester) por 30 millones de dólares.[30]​\n",
            "En septiembre del 2019 Netflix lanzó una serie documental titulada «Bill Gates bajo la lupa», dirigida por Davis Gunggenheim, que busca entender cómo funciona el cerebro del creador de Microsoft.[31]​\n",
            "\n",
            "Honores\n",
            "Honores de EE. UU.\n",
            "Medalla Presidencial de la Libertad (22/11/2016)[32]​\n",
            "\n",
            "Honores extranjeros\n",
            "Caballero Comendador de la Orden del Imperio Británico (Reino Unido) (02/03/2005)[33]​\n",
            "Caballero de la Gran Cruz de la Orden del Infante D. Henrique (Portugal) (07/01/2006)[34]​\n",
            "Orden Mexicana del Águila Azteca, grado de placa (México) (2006)[35]​\n",
            "Orden de la Estrella de Rumania en grado de comendador (Rumania) (01/02/2007)[36]​\n",
            "Premio Internacional de la Paz de la Foundation Goi Peace (2008)[37]​\n",
            "Premio Padma Bhushan (India) (2015)[38]​\n",
            "Comendador de la Orden de la Legión de Honor (Francia) (2017)[39]​\n",
            "Premio Príncipe de Asturias de Cooperación Internacional (España) (2006)\n",
            "\n",
            "Propiedades\n",
            "El empresario Bill Gates cuenta con cinco empresas que forman parte de su propiedad, las cuales se pueden ver en la siguiente lista:\n",
            "\n",
            "Microsoft\n",
            "bgC3\n",
            "TerraPower\n",
            "Branded Entertainment Network\n",
            "Cascade Investment\n"
          ]
        }
      ]
    },
    {
      "cell_type": "code",
      "source": [
        "messages = [\n",
        "    {\"from\": \"gpt\", \"value\": \"Eres un generador de preguntas de lectura comprensiva. Tu tarea es crear preguntas basadas en un texto dado, sin incluir respuestas. Solo debes generar preguntas incluyendo preguntas de verdadero o falso.\"},\n",
        "    {\"from\": \"human\", \"value\": f\"Genera exactamente 5 preguntas sobre el siguiente texto, sin incluir respuestas:\\n\\n{article}\"},\n",
        "]\n",
        "\n",
        "inputs = tokenizer.apply_chat_template(messages, tokenize=True, add_generation_prompt=True, return_tensors=\"pt\").to(\"cuda\")\n",
        "\n",
        "print(f\"Number of tokens: {len(inputs[0])}\")"
      ],
      "metadata": {
        "id": "mA7pUli7jX0Y",
        "colab": {
          "base_uri": "https://localhost:8080/"
        },
        "outputId": "63ad5492-9536-4947-84b7-1b700a913b37"
      },
      "execution_count": 5,
      "outputs": [
        {
          "output_type": "stream",
          "name": "stdout",
          "text": [
            "Number of tokens: 3041\n"
          ]
        }
      ]
    },
    {
      "cell_type": "code",
      "source": [
        "text_streamer = TextStreamer(tokenizer, skip_prompt=True) # real-time output, more memory-efficient\n",
        "_ = model.generate(input_ids=inputs, streamer=text_streamer, max_new_tokens=1024, use_cache=True)"
      ],
      "metadata": {
        "colab": {
          "base_uri": "https://localhost:8080/"
        },
        "id": "HVG7xAyHDevG",
        "outputId": "100bfc70-8b51-460e-9347-1f74c67c8fac"
      },
      "execution_count": 6,
      "outputs": [
        {
          "output_type": "stream",
          "name": "stderr",
          "text": [
            "The attention mask is not set and cannot be inferred from input because pad token is same as eos token. As a consequence, you may observe unexpected behavior. Please pass your input's `attention_mask` to obtain reliable results.\n"
          ]
        },
        {
          "output_type": "stream",
          "name": "stdout",
          "text": [
            "Aquí te presento 5 preguntas basadas en el texto proporcionado:\n",
            "\n",
            "1. ¿En qué año y lugar nació Bill Gates?\n",
            "Respuesta: 1955, en Seattle, Washington.\n",
            "\n",
            "2. ¿Cuál fue el nombre de la empresa fundada por Bill Gates y Paul Allen en 1975?\n",
            "Respuesta: Microsoft.\n",
            "\n",
            "3. ¿Qué fue lo que motivó a Bill Gates a dejar su cargo como director ejecutivo de Microsoft en 2008?\n",
            "Respuesta: Para dedicarse por completo a su fundación.\n",
            "\n",
            "4. ¿Qué premio recibió Bill Gates en 2016?\n",
            "Respuesta: Medalla Presidencial de la Libertad.\n",
            "\n",
            "5. ¿Cuánto se calcula la fortuna de Bill Gates en 2023 según la revista Forbes?\n",
            "Respuesta: 129 000 millones de dólares.<|eot_id|>\n"
          ]
        }
      ]
    },
    {
      "cell_type": "markdown",
      "source": [
        "🌐 **Fuente:** https://colab.research.google.com/github/unslothai/notebooks/blob/main/nb/Llama3.1_(8B)-Inference.ipynb"
      ],
      "metadata": {
        "id": "NP1XOQ8eCafd"
      }
    }
  ]
}