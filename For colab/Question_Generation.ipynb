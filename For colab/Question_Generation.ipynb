{
  "nbformat": 4,
  "nbformat_minor": 0,
  "metadata": {
    "colab": {
      "provenance": [],
      "gpuType": "T4",
      "toc_visible": true
    },
    "kernelspec": {
      "name": "python3",
      "display_name": "Python 3"
    },
    "language_info": {
      "name": "python"
    },
    "accelerator": "GPU",
    "widgets": {
      "application/vnd.jupyter.widget-state+json": {
        "add70935a8b04e2fb0b5a43cb12e7cbd": {
          "model_module": "@jupyter-widgets/controls",
          "model_name": "HBoxModel",
          "model_module_version": "1.5.0",
          "state": {
            "_dom_classes": [],
            "_model_module": "@jupyter-widgets/controls",
            "_model_module_version": "1.5.0",
            "_model_name": "HBoxModel",
            "_view_count": null,
            "_view_module": "@jupyter-widgets/controls",
            "_view_module_version": "1.5.0",
            "_view_name": "HBoxView",
            "box_style": "",
            "children": [
              "IPY_MODEL_bdfa09891668404189e5861cd1b0b40d",
              "IPY_MODEL_aae40ca2e15a4bd98962e5deae2c762f",
              "IPY_MODEL_b14308e7506140f7a221e79a84cfff4a"
            ],
            "layout": "IPY_MODEL_be680b95ffa641be86a8eed4749d9d3a"
          }
        },
        "bdfa09891668404189e5861cd1b0b40d": {
          "model_module": "@jupyter-widgets/controls",
          "model_name": "HTMLModel",
          "model_module_version": "1.5.0",
          "state": {
            "_dom_classes": [],
            "_model_module": "@jupyter-widgets/controls",
            "_model_module_version": "1.5.0",
            "_model_name": "HTMLModel",
            "_view_count": null,
            "_view_module": "@jupyter-widgets/controls",
            "_view_module_version": "1.5.0",
            "_view_name": "HTMLView",
            "description": "",
            "description_tooltip": null,
            "layout": "IPY_MODEL_d7f40e582eec4fa79419c7b512de5b94",
            "placeholder": "​",
            "style": "IPY_MODEL_29517fc269064b23ab73c1d116c426eb",
            "value": "Loading checkpoint shards: 100%"
          }
        },
        "aae40ca2e15a4bd98962e5deae2c762f": {
          "model_module": "@jupyter-widgets/controls",
          "model_name": "FloatProgressModel",
          "model_module_version": "1.5.0",
          "state": {
            "_dom_classes": [],
            "_model_module": "@jupyter-widgets/controls",
            "_model_module_version": "1.5.0",
            "_model_name": "FloatProgressModel",
            "_view_count": null,
            "_view_module": "@jupyter-widgets/controls",
            "_view_module_version": "1.5.0",
            "_view_name": "ProgressView",
            "bar_style": "success",
            "description": "",
            "description_tooltip": null,
            "layout": "IPY_MODEL_226c6e78f74c4f9a9a2ddc12c1fa4679",
            "max": 4,
            "min": 0,
            "orientation": "horizontal",
            "style": "IPY_MODEL_66274311a4444bc291522a15f9eb192e",
            "value": 4
          }
        },
        "b14308e7506140f7a221e79a84cfff4a": {
          "model_module": "@jupyter-widgets/controls",
          "model_name": "HTMLModel",
          "model_module_version": "1.5.0",
          "state": {
            "_dom_classes": [],
            "_model_module": "@jupyter-widgets/controls",
            "_model_module_version": "1.5.0",
            "_model_name": "HTMLModel",
            "_view_count": null,
            "_view_module": "@jupyter-widgets/controls",
            "_view_module_version": "1.5.0",
            "_view_name": "HTMLView",
            "description": "",
            "description_tooltip": null,
            "layout": "IPY_MODEL_be875e6d623c42dc8caf9f9951a12a00",
            "placeholder": "​",
            "style": "IPY_MODEL_3e840efb8b5f4bcf848aec15b8bc250e",
            "value": " 4/4 [01:23&lt;00:00, 17.97s/it]"
          }
        },
        "be680b95ffa641be86a8eed4749d9d3a": {
          "model_module": "@jupyter-widgets/base",
          "model_name": "LayoutModel",
          "model_module_version": "1.2.0",
          "state": {
            "_model_module": "@jupyter-widgets/base",
            "_model_module_version": "1.2.0",
            "_model_name": "LayoutModel",
            "_view_count": null,
            "_view_module": "@jupyter-widgets/base",
            "_view_module_version": "1.2.0",
            "_view_name": "LayoutView",
            "align_content": null,
            "align_items": null,
            "align_self": null,
            "border": null,
            "bottom": null,
            "display": null,
            "flex": null,
            "flex_flow": null,
            "grid_area": null,
            "grid_auto_columns": null,
            "grid_auto_flow": null,
            "grid_auto_rows": null,
            "grid_column": null,
            "grid_gap": null,
            "grid_row": null,
            "grid_template_areas": null,
            "grid_template_columns": null,
            "grid_template_rows": null,
            "height": null,
            "justify_content": null,
            "justify_items": null,
            "left": null,
            "margin": null,
            "max_height": null,
            "max_width": null,
            "min_height": null,
            "min_width": null,
            "object_fit": null,
            "object_position": null,
            "order": null,
            "overflow": null,
            "overflow_x": null,
            "overflow_y": null,
            "padding": null,
            "right": null,
            "top": null,
            "visibility": null,
            "width": null
          }
        },
        "d7f40e582eec4fa79419c7b512de5b94": {
          "model_module": "@jupyter-widgets/base",
          "model_name": "LayoutModel",
          "model_module_version": "1.2.0",
          "state": {
            "_model_module": "@jupyter-widgets/base",
            "_model_module_version": "1.2.0",
            "_model_name": "LayoutModel",
            "_view_count": null,
            "_view_module": "@jupyter-widgets/base",
            "_view_module_version": "1.2.0",
            "_view_name": "LayoutView",
            "align_content": null,
            "align_items": null,
            "align_self": null,
            "border": null,
            "bottom": null,
            "display": null,
            "flex": null,
            "flex_flow": null,
            "grid_area": null,
            "grid_auto_columns": null,
            "grid_auto_flow": null,
            "grid_auto_rows": null,
            "grid_column": null,
            "grid_gap": null,
            "grid_row": null,
            "grid_template_areas": null,
            "grid_template_columns": null,
            "grid_template_rows": null,
            "height": null,
            "justify_content": null,
            "justify_items": null,
            "left": null,
            "margin": null,
            "max_height": null,
            "max_width": null,
            "min_height": null,
            "min_width": null,
            "object_fit": null,
            "object_position": null,
            "order": null,
            "overflow": null,
            "overflow_x": null,
            "overflow_y": null,
            "padding": null,
            "right": null,
            "top": null,
            "visibility": null,
            "width": null
          }
        },
        "29517fc269064b23ab73c1d116c426eb": {
          "model_module": "@jupyter-widgets/controls",
          "model_name": "DescriptionStyleModel",
          "model_module_version": "1.5.0",
          "state": {
            "_model_module": "@jupyter-widgets/controls",
            "_model_module_version": "1.5.0",
            "_model_name": "DescriptionStyleModel",
            "_view_count": null,
            "_view_module": "@jupyter-widgets/base",
            "_view_module_version": "1.2.0",
            "_view_name": "StyleView",
            "description_width": ""
          }
        },
        "226c6e78f74c4f9a9a2ddc12c1fa4679": {
          "model_module": "@jupyter-widgets/base",
          "model_name": "LayoutModel",
          "model_module_version": "1.2.0",
          "state": {
            "_model_module": "@jupyter-widgets/base",
            "_model_module_version": "1.2.0",
            "_model_name": "LayoutModel",
            "_view_count": null,
            "_view_module": "@jupyter-widgets/base",
            "_view_module_version": "1.2.0",
            "_view_name": "LayoutView",
            "align_content": null,
            "align_items": null,
            "align_self": null,
            "border": null,
            "bottom": null,
            "display": null,
            "flex": null,
            "flex_flow": null,
            "grid_area": null,
            "grid_auto_columns": null,
            "grid_auto_flow": null,
            "grid_auto_rows": null,
            "grid_column": null,
            "grid_gap": null,
            "grid_row": null,
            "grid_template_areas": null,
            "grid_template_columns": null,
            "grid_template_rows": null,
            "height": null,
            "justify_content": null,
            "justify_items": null,
            "left": null,
            "margin": null,
            "max_height": null,
            "max_width": null,
            "min_height": null,
            "min_width": null,
            "object_fit": null,
            "object_position": null,
            "order": null,
            "overflow": null,
            "overflow_x": null,
            "overflow_y": null,
            "padding": null,
            "right": null,
            "top": null,
            "visibility": null,
            "width": null
          }
        },
        "66274311a4444bc291522a15f9eb192e": {
          "model_module": "@jupyter-widgets/controls",
          "model_name": "ProgressStyleModel",
          "model_module_version": "1.5.0",
          "state": {
            "_model_module": "@jupyter-widgets/controls",
            "_model_module_version": "1.5.0",
            "_model_name": "ProgressStyleModel",
            "_view_count": null,
            "_view_module": "@jupyter-widgets/base",
            "_view_module_version": "1.2.0",
            "_view_name": "StyleView",
            "bar_color": null,
            "description_width": ""
          }
        },
        "be875e6d623c42dc8caf9f9951a12a00": {
          "model_module": "@jupyter-widgets/base",
          "model_name": "LayoutModel",
          "model_module_version": "1.2.0",
          "state": {
            "_model_module": "@jupyter-widgets/base",
            "_model_module_version": "1.2.0",
            "_model_name": "LayoutModel",
            "_view_count": null,
            "_view_module": "@jupyter-widgets/base",
            "_view_module_version": "1.2.0",
            "_view_name": "LayoutView",
            "align_content": null,
            "align_items": null,
            "align_self": null,
            "border": null,
            "bottom": null,
            "display": null,
            "flex": null,
            "flex_flow": null,
            "grid_area": null,
            "grid_auto_columns": null,
            "grid_auto_flow": null,
            "grid_auto_rows": null,
            "grid_column": null,
            "grid_gap": null,
            "grid_row": null,
            "grid_template_areas": null,
            "grid_template_columns": null,
            "grid_template_rows": null,
            "height": null,
            "justify_content": null,
            "justify_items": null,
            "left": null,
            "margin": null,
            "max_height": null,
            "max_width": null,
            "min_height": null,
            "min_width": null,
            "object_fit": null,
            "object_position": null,
            "order": null,
            "overflow": null,
            "overflow_x": null,
            "overflow_y": null,
            "padding": null,
            "right": null,
            "top": null,
            "visibility": null,
            "width": null
          }
        },
        "3e840efb8b5f4bcf848aec15b8bc250e": {
          "model_module": "@jupyter-widgets/controls",
          "model_name": "DescriptionStyleModel",
          "model_module_version": "1.5.0",
          "state": {
            "_model_module": "@jupyter-widgets/controls",
            "_model_module_version": "1.5.0",
            "_model_name": "DescriptionStyleModel",
            "_view_count": null,
            "_view_module": "@jupyter-widgets/base",
            "_view_module_version": "1.2.0",
            "_view_name": "StyleView",
            "description_width": ""
          }
        }
      }
    }
  },
  "cells": [
    {
      "cell_type": "markdown",
      "source": [
        "# ⬇️ Instalación y carga del modelo"
      ],
      "metadata": {
        "id": "GPszK-J6qobw"
      }
    },
    {
      "cell_type": "code",
      "execution_count": 1,
      "metadata": {
        "id": "6x5rx1l8hXJ4"
      },
      "outputs": [],
      "source": [
        "%%capture\n",
        "!pip install -U transformers\n",
        "!pip install accelerate\n",
        "!pip install -U bitsandbytes\n",
        "!pip install Wikipedia-API"
      ]
    },
    {
      "cell_type": "code",
      "source": [
        "import wikipediaapi\n",
        "\n",
        "# Initializate Wikipedia object\n",
        "wikipedia = wikipediaapi.Wikipedia(user_agent='QuestionGeneration (francoartico0@gmail.com)', language='es')\n",
        "\n",
        "def clean_wikipedia_article(title, sections_to_remove):\n",
        "    \"\"\"\n",
        "    Fetches a Wikipedia article and removes specified sections\n",
        "    \"\"\"\n",
        "    page = wikipedia.page(title)\n",
        "\n",
        "    if page.exists():\n",
        "      for section in sections_to_remove:\n",
        "          section_to_remove = page.section_by_title(section)\n",
        "          if section_to_remove:\n",
        "            page.sections.remove(section_to_remove)\n",
        "      return page.text\n",
        "    return None\n"
      ],
      "metadata": {
        "id": "TGLBzx7UPIsB"
      },
      "execution_count": 2,
      "outputs": []
    },
    {
      "cell_type": "code",
      "source": [
        "sections_to_remove =[\"Enlaces externos\", \"Bibliografía\", \"Referencias\", \"Notas\", \"Véase también\", \"Notas y referencias\", \"Otras lecturas\"]\n",
        "article = clean_wikipedia_article(title=\"Bill Gates\", sections_to_remove=sections_to_remove)\n",
        "\n",
        "print(article)"
      ],
      "metadata": {
        "colab": {
          "base_uri": "https://localhost:8080/"
        },
        "id": "98kLspMzr3u_",
        "outputId": "91bb857e-d767-4129-cf46-a9c95942485b"
      },
      "execution_count": 3,
      "outputs": [
        {
          "output_type": "stream",
          "name": "stdout",
          "text": [
            "William Henry Gates III (Seattle, 28 de octubre de 1955), conocido como Bill Gates, es un magnate empresarial, desarrollador de software, inversor, autor y filántropo estadounidense. Es cofundador de Microsoft, junto con su difunto amigo de la infancia Paul Allen. Durante su carrera en Microsoft, Gates ocupó los cargos de presidente, director ejecutivo (CEO), presidente y arquitecto jefe de software, además de ser el mayor accionista individual hasta mayo de 2014. Fue uno de los principales empresarios de la revolución de las microcomputadoras de las décadas de 1970 y 1980.\n",
            "Su fortuna se calcula en 129 000 millones de dólares (2023) según la revista Forbes, hecho que lo colocó como el cuarto hombre más rico del mundo.[3]​ Antes del estallido de la burbuja de las punto com, su patrimonio neto ascendió a 114 100 millones de dólares, lo que lo convirtió en la décima persona más rica en toda la historia de la humanidad.[4]​\n",
            "Es uno de los empresarios más conocidos que surgieron durante los inicios de los ordenadores personales. Ha sido criticado por sus tácticas de negocios, que han sido consideradas anticompetitivas, una opinión que en algunos casos ha sido mantenida por numerosas sentencias judiciales.[5]​\n",
            "Estuvo casado con Melinda Gates,[1]​ con quien comparte la presidencia de la Fundación Bill y Melinda Gates, dedicada a reequilibrar oportunidades en salud y educación a nivel local, aunque también ha participado en otros países. Por ejemplo, en Nigeria con el programa para erradicar la polio,[6]​ razón por la cual han sido galardonados con el Premio Príncipe de Asturias de Cooperación Internacional 2006.[7]​[8]​[9]​\n",
            "\n",
            "Biografía\n",
            "Bill Gates nació el 28 de octubre de 1955.[10]​ Es hijo de William H. Gates Sr., un destacado abogado, y de Mary Gates, profesora y fue rectora[11]​de la Universidad de Washington, y directora del First Interstate Bank. Con ellos y su hermana, dos años mayor, vivió en la ciudad de Seattle, en el estado de Washington. A nivel familiar, lo apodan, \"Trey\": William the Third.[11]​\n",
            "Hasta sexto grado fue alumno regular de un colegio público. Cursó estudios en la escuela privada de élite de Lakeside, en Seattle. Esta escuela tenía ya una computadora en el año 1968, lo que le permitió a Gates tomar contacto con la máquina y aficionarse a la informática. También en Lakeside conoció a Paul Allen, con quien más tarde fundaría Microsoft.\n",
            "El 4 de abril de 1975, siendo aún estudiante en la Universidad de Harvard crea la empresa de software Microsoft. En 1976 abandonó la universidad y se trasladó a Albuquerque, sede de MITS, para pactar con esa empresa la cesión del 50 % del lenguaje para computadoras Basic. Al año siguiente, se enteró del éxito de la empresa Apple y de que necesitaban un intérprete de Basic.\n",
            "En 1980, se reunió con representantes de IBM en Seattle. Ellos querían contar con el sistema operativo CP/M. Él les comento de la existencia de una versión adaptada llamada QDOS u 86DOS, comprometiéndose a conseguir una licencia no exclusiva a fin de adaptarla. Con ello, consiguió venderles la idea del sistema operativo MS-DOS, sin contar con esta, comprando la 86DOS a muy bajo precio al joven programador Tim Paterson. IBM necesitaba ese sistema operativo para competir con Apple, razón por la cual la negociación fue flexible. Microsoft quiso los derechos de licencia, mantenimiento, e incluso la facultad de vender el DOS a otras compañías. IBM aceptó, considerando que lo que produciría dividendos sería el hardware y no el software. Unos días después, Microsoft compró los derechos de autor del QDOS a Tim Paterson, que trabajaba para la Seattle Computer Products, por 50 000 dólares, que vendió a IBM como MS-DOS (Microsoft DOS). Lo que llama poderosamente la atención fue que IBM no comprara el MS-DOS sino que decidiera pagar a Microsoft un canon por cada copia que se vendiera junto con un IBM-PC.\n",
            "Consciente de la importancia del entorno gráfico que había mostrado Apple (originalmente la interfaz gráfica y el «ratón» fueron desarrollados por Xerox PARC) en su ordenador Lisa, se propuso conseguir también el entorno gráfico y el «ratón» para operarlo. Mientras, Steve Jobs, fundador de Apple, iniciaba el desarrollo del Macintosh, Bill Gates visitó Apple. Ofrecía mejorar sus hojas de cálculo y otros programas. Amenazaba con vender su material informático a IBM, con lo que obtuvo una alianza Apple-Microsoft.[cita requerida] Microsoft obtuvo legalmente la tecnología del entorno gráfico y del ratón, y sacó al mercado Microsoft Windows, como directo competidor de Macintosh.\n",
            "Desde comienzos de siglo, el sistema operativo Microsoft Windows (en todas sus versiones) se utiliza en la mayor parte de ordenadores personales del planeta.[12]​\n",
            "\n",
            "Filantropía\n",
            "En 2009 Gates y Warren Buffett fundaron The Giving Pledge, por la cual ellos y otros multimillonarios se comprometen a donar al menos la mitad de su riqueza a la filantropía.[13]​\n",
            "\n",
            "Fundación Bill y Melinda Gates\n",
            "El 16 de junio de 2006 hizo pública su intención de abandonar sus labores diarias al frente de Microsoft hacia el 2008 para dedicarse por completo a su fundación.[14]​[15]​ La transición de responsabilidades fue progresiva para evitar afectar el desarrollo diario de la empresa, continuando como presidente Honorario de la misma. El 27 de junio de 2008 abandonó sus labores al frente de Microsoft cediendo el control de la empresa a Steve Ballmer. Bill Gates dedica un 70 % de su tiempo a la Fundación Bill y Melinda Gates y el otro 30 % a la empresa.[16]​\n",
            "En julio de 2022 Gates anuncia la donación de 20 000 millones de dólares más en ese mismo mes y la posterior donación de todo su patrimonio a la Fundación a excepción de lo que gaste en sí mismo y en su familia[17]​\n",
            "\n",
            "Donaciones personales\n",
            "En 1999, Gates donó 20 millones de dólares al Massachusetts Institute of Technology (MIT) para la construcción de un laboratorio de computación llamado «William H. Gates Building», diseñado por el arquitecto Frank Gehry. Aunque Microsoft había dado anteriormente apoyo financiero a la institución, esta fue la primera donación personal recibida de Gates.[18]​\n",
            "\n",
            "Eventos deportivos de caridad\n",
            "El 29 de abril de 2017, Bill Gates se asoció con la leyenda del tenis suizo Roger Federer para participar en el Match for Africa 4, un partido de tenis no competitivo que se disputará en el Key Arena de Seattle con todas las entradas agotadas. El evento se realizó en apoyo a los esfuerzos de caridad de la Fundación Roger Federer en África. Federer y Gates jugaron contra John Isner, el mejor jugador estadounidense durante gran parte de esta década, y Mike McCready, el guitarrista principal de Pearl Jam. Gates y Federer ganaron el partido por 6-4. Al año siguiente, Gates y Federer volvieron a jugar en el Match for Africa 5 el 5 de marzo de 2018 en el SAP Center de San José (California). Sus oponentes fueron Jack Sock, uno de los mejores jugadores estadounidenses y ganador del Grand Slam en dobles, y Savannah Guthrie, copresentadora del programa Today de la NBC. Gates y Federer registraron su segunda victoria en el partido juntos por 6-3 y el evento recaudó más de 2.5 millones de dólares.[19]​\n",
            "\n",
            "Vida personal\n",
            "En 1986 Gates fue nombrado uno de los «50 solteros más codiciados» por Good Housekeeping. Se casó con Melinda French el 1 de enero de 1994 y tuvieron tres hijos: Jennifer Katharine (1996), Rory John (1999) y Phoebe Adele (2002). La familia residía en su casa en la ladera de una colina con vistas al lago Washington, en Medina. \n",
            "En marzo de 2014, en una entrevista de la revista Rolling Stone, Gates señaló que, en cuanto a su fe, «los sistemas morales de la religión, creo, son super importantes. Hemos criado a nuestros hijos de una manera religiosa». En la misma entrevista, Gates dijo: «Creo que tiene sentido creer en Dios, pero exactamente qué decisión en tu vida haces de manera diferente a causa de ello, no lo sé».[20]​ En otra entrevista a principios de 2014, Gates afirmó que si el cielo existiera él estaría «gratamente sorprendido».[21]​ Según otras fuentes, Gates (que nació en el seno de una iglesia protestante), es ahora fuertemente agnóstico.[22]​ \n",
            "El 3 de mayo de 2021 anunció el fin de su matrimonio con Melinda French, tras 27 años, mediante un mensaje publicado en su cuenta personal de Twitter.[23]​ Si bien ponen fin a su relación personal, continuarán trabajando juntos en la Fundación Bill y Melinda Gates.[23]​[24]​ En noviembre de 2022 se hizo público que se convertiría en abuelo por primera vez, debido a que su hija mayor Jennifer se encontraba embarazada. Su primera nieta nació en marzo de 2023.[25]​\n",
            "\n",
            "Desde 2008, año en que dejó de dirigir Microsoft, ha participado en algunos proyectos para poder difundir este estilo de vida. En este sentido, junto a Peter Thiel (cofundador de la empresa PayPal), ha respaldado la creación de huevos artificiales a base de plantas fáciles de cultivar.[26]​ También aseguró, en una ocasión previa, que «el futuro de la carne es vegano», lo cual va en sintonía con una propuesta que había hecho para crear semillas transgénicas que tuviesen sabor a carne.[27]​[28]​[29]​\n",
            "Desde 2007 Bill Gates ocupaba el segundo lugar en la lista anual de las mayores fortunas personales realizada por la revista Forbes, detrás del empresario mexicano Carlos Slim, pero debido a fluctuaciones en el patrimonio de estos dos magnates, sus fortunas quedaron en 72 700 y 72 100 millones de dólares respectivamente, según el Bloomberg Billionaires Index de mayo de 2013. En 1994, adquirió un manuscrito de Leonardo da Vinci (el Códice Hammer, también llamado Códice Leicester) por 30 millones de dólares.[30]​\n",
            "En septiembre del 2019 Netflix lanzó una serie documental titulada «Bill Gates bajo la lupa», dirigida por Davis Gunggenheim, que busca entender cómo funciona el cerebro del creador de Microsoft.[31]​\n",
            "\n",
            "Honores\n",
            "Honores de EE. UU.\n",
            "Medalla Presidencial de la Libertad (22/11/2016)[32]​\n",
            "\n",
            "Honores extranjeros\n",
            "Caballero Comendador de la Orden del Imperio Británico (Reino Unido) (02/03/2005)[33]​\n",
            "Caballero de la Gran Cruz de la Orden del Infante D. Henrique (Portugal) (07/01/2006)[34]​\n",
            "Orden Mexicana del Águila Azteca, grado de placa (México) (2006)[35]​\n",
            "Orden de la Estrella de Rumania en grado de comendador (Rumania) (01/02/2007)[36]​\n",
            "Premio Internacional de la Paz de la Foundation Goi Peace (2008)[37]​\n",
            "Premio Padma Bhushan (India) (2015)[38]​\n",
            "Comendador de la Orden de la Legión de Honor (Francia) (2017)[39]​\n",
            "Premio Príncipe de Asturias de Cooperación Internacional (España) (2006)\n",
            "\n",
            "Propiedades\n",
            "El empresario Bill Gates cuenta con cinco empresas que forman parte de su propiedad, las cuales se pueden ver en la siguiente lista:\n",
            "\n",
            "Microsoft\n",
            "bgC3\n",
            "TerraPower\n",
            "Branded Entertainment Network\n",
            "Cascade Investment\n"
          ]
        }
      ]
    },
    {
      "cell_type": "code",
      "source": [
        "import torch\n",
        "from google.colab import userdata\n",
        "from transformers import AutoTokenizer, AutoModelForCausalLM\n",
        "from transformers import TextStreamer\n",
        "\n",
        "access_token = userdata.get('HUGGINGFACE_ACCESS_TOKEN')\n",
        "\n",
        "checkpoint = \"meta-llama/Llama-3.1-8B-Instruct\"\n",
        "tokenizer = AutoTokenizer.from_pretrained(checkpoint, token=access_token)\n",
        "model = AutoModelForCausalLM.from_pretrained(checkpoint,\n",
        "                                             device_map=\"auto\",\n",
        "                                             token=access_token,\n",
        "                                             torch_dtype=torch.float16,\n",
        "                                             quantization_config={\"load_in_4bit\": True}\n",
        "\n",
        ")"
      ],
      "metadata": {
        "id": "aeMfKIbuym9j",
        "colab": {
          "base_uri": "https://localhost:8080/",
          "height": 49,
          "referenced_widgets": [
            "add70935a8b04e2fb0b5a43cb12e7cbd",
            "bdfa09891668404189e5861cd1b0b40d",
            "aae40ca2e15a4bd98962e5deae2c762f",
            "b14308e7506140f7a221e79a84cfff4a",
            "be680b95ffa641be86a8eed4749d9d3a",
            "d7f40e582eec4fa79419c7b512de5b94",
            "29517fc269064b23ab73c1d116c426eb",
            "226c6e78f74c4f9a9a2ddc12c1fa4679",
            "66274311a4444bc291522a15f9eb192e",
            "be875e6d623c42dc8caf9f9951a12a00",
            "3e840efb8b5f4bcf848aec15b8bc250e"
          ]
        },
        "outputId": "f261fed8-576a-4919-e766-45e2a3033e12"
      },
      "execution_count": 4,
      "outputs": [
        {
          "output_type": "display_data",
          "data": {
            "text/plain": [
              "Loading checkpoint shards:   0%|          | 0/4 [00:00<?, ?it/s]"
            ],
            "application/vnd.jupyter.widget-view+json": {
              "version_major": 2,
              "version_minor": 0,
              "model_id": "add70935a8b04e2fb0b5a43cb12e7cbd"
            }
          },
          "metadata": {}
        }
      ]
    },
    {
      "cell_type": "code",
      "source": [
        "def generate_response(messages, tokenizer):\n",
        "    inputs = tokenizer.apply_chat_template(messages,\n",
        "                                           tokenize=True,\n",
        "                                           add_generation_prompt=True,\n",
        "                                           return_tensors=\"pt\").to(\"cuda\")\n",
        "\n",
        "    print(f\"Number of inputs tokens: {len(inputs[0])}\")\n",
        "\n",
        "    text_streamer = TextStreamer(tokenizer, skip_prompt=True) # real-time output, more memory-efficient\n",
        "    _ = model.generate(input_ids=inputs, streamer=text_streamer, max_new_tokens=1024, use_cache=True)"
      ],
      "metadata": {
        "id": "RrO0p0biIkRX"
      },
      "execution_count": 5,
      "outputs": []
    },
    {
      "cell_type": "markdown",
      "source": [
        "# ✅ Generación de preguntas con `Llama-3.1-8B-Instruct` usando zero-shot"
      ],
      "metadata": {
        "id": "ig--xjfLhr8V"
      }
    },
    {
      "cell_type": "code",
      "source": [
        "messages = [\n",
        "    {\n",
        "        \"role\": \"assistant\",\n",
        "        \"content\": (\n",
        "            \"Eres un generador de preguntas de lectura comprensiva. \"\n",
        "            \"Tu tarea es crear preguntas basadas en un texto dado, \"\n",
        "            \"sin incluir respuestas ni opciones. Solo debes generar preguntas, \"\n",
        "            \"en las cuales deberás incluir preguntas de tipo verdadero o falso.\"\n",
        "        ),\n",
        "    },\n",
        "    {\n",
        "        \"role\": \"user\",\n",
        "        \"content\": (\n",
        "            \"Genera exactamente 10 preguntas, de las cuales 5 deben ser de tipo \"\n",
        "            \"verdadero o falso, sin incluir las respuestas ni opciones, sobre el siguiente texto:\\n\\n\"\n",
        "            f\"{article}\"\n",
        "        ),\n",
        "    },\n",
        "]\n",
        "\n",
        "generate_response(messages, tokenizer)"
      ],
      "metadata": {
        "id": "mA7pUli7jX0Y",
        "colab": {
          "base_uri": "https://localhost:8080/"
        },
        "outputId": "c7ec0b9d-acaa-4dfe-e9ea-99654c6be429"
      },
      "execution_count": 6,
      "outputs": [
        {
          "output_type": "stream",
          "name": "stderr",
          "text": [
            "The attention mask and the pad token id were not set. As a consequence, you may observe unexpected behavior. Please pass your input's `attention_mask` to obtain reliable results.\n",
            "Setting `pad_token_id` to `eos_token_id`:128001 for open-end generation.\n",
            "The attention mask is not set and cannot be inferred from input because pad token is same as eos token. As a consequence, you may observe unexpected behavior. Please pass your input's `attention_mask` to obtain reliable results.\n"
          ]
        },
        {
          "output_type": "stream",
          "name": "stdout",
          "text": [
            "Number of inputs tokens: 3067\n"
          ]
        },
        {
          "output_type": "stream",
          "name": "stderr",
          "text": [
            "/usr/local/lib/python3.11/dist-packages/bitsandbytes/nn/modules.py:451: UserWarning: Input type into Linear4bit is torch.float16, but bnb_4bit_compute_dtype=torch.float32 (default). This will lead to slow inference or training speed.\n",
            "  warnings.warn(\n"
          ]
        },
        {
          "output_type": "stream",
          "name": "stdout",
          "text": [
            "Aquí te dejo 10 preguntas sobre el texto, de las cuales 5 son de tipo verdadero o falso:\n",
            "\n",
            "1. ¿En qué año nació Bill Gates? \n",
            "2. ¿Cuál es la fortuna de Bill Gates según la revista Forbes? \n",
            "3. ¿Cuál es el cargo que ocupó Bill Gates en Microsoft? \n",
            "4. ¿Cuándo se casó Bill Gates con Melinda French? \n",
            "5. ¿Cuál es el título de la serie documental que se lanzó sobre la vida de Bill Gates? \n",
            "\n",
            "Y estas 5 preguntas son de tipo verdadero o falso:\n",
            "\n",
            "1. Es cierto que Bill Gates se casó con Melinda French en 1993. \n",
            "2. Falso que Bill Gates se retiró de Microsoft en 2008. \n",
            "3. Es cierto que Bill Gates es el cuarto hombre más rico del mundo. \n",
            "4. Falso que Bill Gates abandonó su matrimonio con Melinda French en 2020. \n",
            "5. Es cierto que Bill Gates es el fundador de Microsoft.<|eot_id|>\n"
          ]
        }
      ]
    },
    {
      "cell_type": "markdown",
      "source": [
        "# 💥 Generación de preguntas con `Llama-3.1-8B-Instruct` usando few-shot"
      ],
      "metadata": {
        "id": "GHy4dymqlpdI"
      }
    },
    {
      "cell_type": "code",
      "source": [
        "# Clean Wikipedia articles\n",
        "turing = clean_wikipedia_article(title=\"Alan Turing\", sections_to_remove=sections_to_remove)\n",
        "von_neumann = clean_wikipedia_article(title=\"John von Neumann\", sections_to_remove=sections_to_remove)\n",
        "\n",
        "# Example questions for Alan Turing\n",
        "turing_question_examples = \"\"\"\n",
        "Preguntas de tipo respuestas cortas:\n",
        "1. ¿En qué fecha nació Alan Turing?\n",
        "2. ¿Dónde nació Alan Turing?\n",
        "3. ¿Cuáles eran las profesiones de Alan Turing?\n",
        "4. ¿Cuál fue la causa de su muerte?\n",
        "5. ¿A qué se dedicó durante la Segunda Guerra Mundial?\n",
        "\n",
        "Preguntas de tipo Verdadero o Falso:\n",
        "6. La máquina sobre la cual trabajó durante la guerra se llamó máquina Enigma. ¿Verdadero o Falso?\n",
        "7. Se estima que el trabajo de Turing durante la guerra acortó la misma entre 2 y 4 años. ¿Verdadero o Falso?\n",
        "8. La prueba de Turing se utiliza para juzgar la computabilidad de una función. ¿Verdadero o Falso?\n",
        "9. Alan Turing fue condenado por crímenes de guerra después de la Segunda Guerra Mundial. ¿Verdadero o Falso?\n",
        "\"\"\"\n",
        "\n",
        "# Example questions for John von Neumann\n",
        "von_neumann_question_examples = \"\"\"\n",
        "Preguntas de tipo respuestas cortas:\n",
        "1. ¿A qué se dedicaba John von Neumann?\n",
        "2. ¿Cuál fue la fecha de su nacimiento?\n",
        "3. ¿En qué universidad obtuvo su doctorado en matemáticas?\n",
        "4. ¿Cuál fue su aporte en la Segunda Guerra Mundial?\n",
        "\n",
        "Preguntas de tipo Verdadero o Falso:\n",
        "5. Es uno de los matemáticos más importantes del siglo XX. ¿Verdadero o Falso?\n",
        "6. Asistió a la Universidad de Budapest. ¿Verdadero o Falso?\n",
        "7. John von Neumann participó en el famoso Proyecto Manhattan. ¿Verdadero o Falso?\n",
        "\"\"\"\n",
        "\n",
        "# Define messages for the model\n",
        "messages = [\n",
        "    {\n",
        "        \"role\": \"assistant\",\n",
        "        \"content\": (\n",
        "            \"Eres un generador de preguntas de lectura comprensiva. \"\n",
        "            \"Tu tarea es crear preguntas basadas en un texto dado, \"\n",
        "            \"sin incluir respuestas ni opciones. Solo debes generar preguntas, \"\n",
        "            \"incluyendo preguntas de tipo verdadero o falso.\"\n",
        "        ),\n",
        "    },\n",
        "    {\n",
        "        \"role\": \"user\",\n",
        "        \"content\": (\n",
        "            f\"Usando el siguiente artículo {turing}, estos son ejemplos de preguntas que puedes hacer:\\n\"\n",
        "            f\"{turing_question_examples}\\n\\n\"\n",
        "            f\"Usando el siguiente artículo {von_neumann}, estos son ejemplos de preguntas que puedes hacer:\\n\"\n",
        "            f\"{von_neumann_question_examples}\\n\\n\"\n",
        "            f\"Genera exactamente 10 preguntas, incluyendo 5 que deben ser de tipo verdadero o falso, sobre el siguiente texto:\\n{article}\"\n",
        "        ),\n",
        "    },\n",
        "]\n",
        "\n",
        "# Generate response\n",
        "generate_response(messages, tokenizer)"
      ],
      "metadata": {
        "id": "iju_7zfhmnKu",
        "colab": {
          "base_uri": "https://localhost:8080/"
        },
        "outputId": "0ffbc0a3-e1e2-4ea5-a531-b2209222cc4a"
      },
      "execution_count": 7,
      "outputs": [
        {
          "output_type": "stream",
          "name": "stderr",
          "text": [
            "The attention mask and the pad token id were not set. As a consequence, you may observe unexpected behavior. Please pass your input's `attention_mask` to obtain reliable results.\n",
            "Setting `pad_token_id` to `eos_token_id`:128001 for open-end generation.\n"
          ]
        },
        {
          "output_type": "stream",
          "name": "stdout",
          "text": [
            "Number of inputs tokens: 19768\n",
            "Aquí te dejo 10 preguntas sobre el texto, incluyendo 5 preguntas de tipo \"verdadero o falso\".\n",
            "\n",
            "**Preguntas de tipo respuestas cortas:**\n",
            "\n",
            "1. ¿Cuál fue la fecha de nacimiento de Bill Gates?\n",
            "2. ¿Cuál es el nombre de la fundación que fundó Bill Gates con su esposa Melinda?\n",
            "3. ¿Cuál es el nombre del sistema operativo que creó Bill Gates y su empresa Microsoft?\n",
            "4. ¿Cuál es el nombre del manuscrito de Leonardo da Vinci que adquirió Bill Gates?\n",
            "5. ¿Cuál es el nombre del premio que recibió Bill Gates en 2006?\n",
            "\n",
            "**Preguntas de tipo \"verdadero o falso\":**\n",
            "\n",
            "1. Bill Gates es el fundador de Microsoft. ¿Verdadero o falso?\n",
            "2. Bill Gates es el presidente de la Fundación Bill y Melinda Gates. ¿Verdadero o falso?\n",
            "3. Bill Gates es el creador del sistema operativo Windows. ¿Verdadero o falso?\n",
            "4. Bill Gates ha sido nombrado como uno de los \"50 solteros más codiciados\" por Good Housekeeping. ¿Verdadero o falso?\n",
            "5. Bill Gates ha sido galardonado con el Premio Príncipe de Asturias de Cooperación Internacional en 2006. ¿Verdadero o falso?<|eot_id|>\n"
          ]
        }
      ]
    }
  ]
}